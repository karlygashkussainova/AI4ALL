{
 "cells": [
  {
   "cell_type": "code",
   "execution_count": 1,
   "id": "200b36f2",
   "metadata": {
    "_cell_guid": "b1076dfc-b9ad-4769-8c92-a6c4dae69d19",
    "_uuid": "8f2839f25d086af736a60e9eeb907d3b93b6e0e5",
    "execution": {
     "iopub.execute_input": "2022-07-27T14:14:23.511831Z",
     "iopub.status.busy": "2022-07-27T14:14:23.511349Z",
     "iopub.status.idle": "2022-07-27T14:14:25.293110Z",
     "shell.execute_reply": "2022-07-27T14:14:25.291752Z"
    },
    "papermill": {
     "duration": 1.794289,
     "end_time": "2022-07-27T14:14:25.296722",
     "exception": false,
     "start_time": "2022-07-27T14:14:23.502433",
     "status": "completed"
    },
    "tags": []
   },
   "outputs": [],
   "source": [
    "import numpy as np\n",
    "import pandas as pd\n",
    "\n",
    "import matplotlib.pyplot as plt\n",
    "import seaborn as sns\n",
    "sns.set_style('darkgrid')\n",
    "\n",
    "from sklearn.preprocessing import StandardScaler\n",
    "from sklearn.model_selection import train_test_split\n",
    "from sklearn.decomposition import PCA\n",
    "from sklearn.tree import DecisionTreeClassifier\n",
    "from sklearn.linear_model import LogisticRegression\n",
    "from sklearn.metrics import accuracy_score, confusion_matrix, classification_report\n",
    "from sklearn.model_selection import GridSearchCV\n"
   ]
  },
  {
   "cell_type": "markdown",
   "id": "4e124f28",
   "metadata": {},
   "source": [
    "# Data preprocessing and standartization"
   ]
  },
  {
   "cell_type": "code",
   "execution_count": 2,
   "id": "63fed6ec",
   "metadata": {
    "execution": {
     "iopub.execute_input": "2022-07-27T14:14:25.310834Z",
     "iopub.status.busy": "2022-07-27T14:14:25.310361Z",
     "iopub.status.idle": "2022-07-27T14:14:25.340969Z",
     "shell.execute_reply": "2022-07-27T14:14:25.339120Z"
    },
    "papermill": {
     "duration": 0.040871,
     "end_time": "2022-07-27T14:14:25.343830",
     "exception": false,
     "start_time": "2022-07-27T14:14:25.302959",
     "status": "completed"
    },
    "tags": []
   },
   "outputs": [],
   "source": [
    "# reading and normalising the dataset\n",
    "df = pd.read_csv('cancer.csv')\n",
    "df.drop(['id', 'Unnamed: 32'], axis = 1, inplace = True)\n",
    "df['diagnosis'] = df['diagnosis'].apply(lambda val: 1 if val == 'M' else 0)\n",
    "\n",
    "# creating features and label \n",
    "X = df.drop('diagnosis', axis = 1)\n",
    "y = df['diagnosis']\n",
    "\n",
    "X_train, X_test, y_train, y_test = train_test_split(X, y, test_size = 0.22, random_state = 0)\n",
    "\n",
    "# scaling data\n",
    "scaler = StandardScaler()\n",
    "X_train = scaler.fit_transform(X_train)\n",
    "X_test = scaler.transform(X_test)\n"
   ]
  },
  {
   "cell_type": "markdown",
   "id": "1d86235f",
   "metadata": {
    "papermill": {
     "duration": 0.009093,
     "end_time": "2022-07-27T14:14:25.833211",
     "exception": false,
     "start_time": "2022-07-27T14:14:25.824118",
     "status": "completed"
    },
    "tags": []
   },
   "source": [
    "# Principal Component Analysis (Dimensionality Reduction)"
   ]
  },
  {
   "cell_type": "code",
   "execution_count": 26,
   "id": "f130eb77",
   "metadata": {
    "execution": {
     "iopub.execute_input": "2022-07-27T14:14:25.855960Z",
     "iopub.status.busy": "2022-07-27T14:14:25.855541Z",
     "iopub.status.idle": "2022-07-27T14:14:25.905698Z",
     "shell.execute_reply": "2022-07-27T14:14:25.904307Z"
    },
    "papermill": {
     "duration": 0.065575,
     "end_time": "2022-07-27T14:14:25.910361",
     "exception": false,
     "start_time": "2022-07-27T14:14:25.844786",
     "status": "completed"
    },
    "tags": []
   },
   "outputs": [],
   "source": [
    "n_components  = 3\n",
    "\n",
    "pca = PCA(n_components = n_components)\n",
    "pca.fit(X_train)\n",
    "\n",
    "pc_train = pd.DataFrame(pca.transform(X_train), columns=[\"P\" + str(i + 1) for i in range(n_components)])\n",
    "pc_test = pd.DataFrame(pca.transform(X_test), columns = [\"P\" + str(i + 1) for i in range(n_components)])\n",
    "                        \n"
   ]
  },
  {
   "cell_type": "code",
   "execution_count": 27,
   "id": "bdde4c60",
   "metadata": {
    "execution": {
     "iopub.execute_input": "2022-07-27T14:14:25.950249Z",
     "iopub.status.busy": "2022-07-27T14:14:25.949527Z",
     "iopub.status.idle": "2022-07-27T14:14:25.979749Z",
     "shell.execute_reply": "2022-07-27T14:14:25.978546Z"
    },
    "papermill": {
     "duration": 0.053266,
     "end_time": "2022-07-27T14:14:25.983314",
     "exception": false,
     "start_time": "2022-07-27T14:14:25.930048",
     "status": "completed"
    },
    "tags": []
   },
   "outputs": [
    {
     "data": {
      "text/html": [
       "<div>\n",
       "<style scoped>\n",
       "    .dataframe tbody tr th:only-of-type {\n",
       "        vertical-align: middle;\n",
       "    }\n",
       "\n",
       "    .dataframe tbody tr th {\n",
       "        vertical-align: top;\n",
       "    }\n",
       "\n",
       "    .dataframe thead th {\n",
       "        text-align: right;\n",
       "    }\n",
       "</style>\n",
       "<table border=\"1\" class=\"dataframe\">\n",
       "  <thead>\n",
       "    <tr style=\"text-align: right;\">\n",
       "      <th></th>\n",
       "      <th>P1</th>\n",
       "      <th>P2</th>\n",
       "      <th>P3</th>\n",
       "    </tr>\n",
       "  </thead>\n",
       "  <tbody>\n",
       "    <tr>\n",
       "      <th>0</th>\n",
       "      <td>-0.870436</td>\n",
       "      <td>0.997914</td>\n",
       "      <td>-1.355659</td>\n",
       "    </tr>\n",
       "    <tr>\n",
       "      <th>1</th>\n",
       "      <td>-2.101854</td>\n",
       "      <td>1.202874</td>\n",
       "      <td>-0.093624</td>\n",
       "    </tr>\n",
       "    <tr>\n",
       "      <th>2</th>\n",
       "      <td>-1.684690</td>\n",
       "      <td>0.066485</td>\n",
       "      <td>-0.807668</td>\n",
       "    </tr>\n",
       "    <tr>\n",
       "      <th>3</th>\n",
       "      <td>-1.456402</td>\n",
       "      <td>-2.952403</td>\n",
       "      <td>-0.968418</td>\n",
       "    </tr>\n",
       "    <tr>\n",
       "      <th>4</th>\n",
       "      <td>-1.663855</td>\n",
       "      <td>3.357465</td>\n",
       "      <td>-2.382846</td>\n",
       "    </tr>\n",
       "    <tr>\n",
       "      <th>...</th>\n",
       "      <td>...</td>\n",
       "      <td>...</td>\n",
       "      <td>...</td>\n",
       "    </tr>\n",
       "    <tr>\n",
       "      <th>393</th>\n",
       "      <td>-1.931645</td>\n",
       "      <td>-1.524048</td>\n",
       "      <td>0.995208</td>\n",
       "    </tr>\n",
       "    <tr>\n",
       "      <th>394</th>\n",
       "      <td>10.016857</td>\n",
       "      <td>0.960326</td>\n",
       "      <td>-2.893888</td>\n",
       "    </tr>\n",
       "    <tr>\n",
       "      <th>395</th>\n",
       "      <td>-2.227052</td>\n",
       "      <td>0.913116</td>\n",
       "      <td>-0.473588</td>\n",
       "    </tr>\n",
       "    <tr>\n",
       "      <th>396</th>\n",
       "      <td>-5.036923</td>\n",
       "      <td>2.126892</td>\n",
       "      <td>3.408886</td>\n",
       "    </tr>\n",
       "    <tr>\n",
       "      <th>397</th>\n",
       "      <td>0.076625</td>\n",
       "      <td>0.665929</td>\n",
       "      <td>2.544370</td>\n",
       "    </tr>\n",
       "  </tbody>\n",
       "</table>\n",
       "<p>398 rows × 3 columns</p>\n",
       "</div>"
      ],
      "text/plain": [
       "            P1        P2        P3\n",
       "0    -0.870436  0.997914 -1.355659\n",
       "1    -2.101854  1.202874 -0.093624\n",
       "2    -1.684690  0.066485 -0.807668\n",
       "3    -1.456402 -2.952403 -0.968418\n",
       "4    -1.663855  3.357465 -2.382846\n",
       "..         ...       ...       ...\n",
       "393  -1.931645 -1.524048  0.995208\n",
       "394  10.016857  0.960326 -2.893888\n",
       "395  -2.227052  0.913116 -0.473588\n",
       "396  -5.036923  2.126892  3.408886\n",
       "397   0.076625  0.665929  2.544370\n",
       "\n",
       "[398 rows x 3 columns]"
      ]
     },
     "execution_count": 27,
     "metadata": {},
     "output_type": "execute_result"
    }
   ],
   "source": [
    "pc_train #run to see how reduced df looks like"
   ]
  },
  {
   "cell_type": "code",
   "execution_count": 28,
   "id": "be6dc8d5",
   "metadata": {
    "execution": {
     "iopub.execute_input": "2022-07-27T14:14:26.017812Z",
     "iopub.status.busy": "2022-07-27T14:14:26.017390Z",
     "iopub.status.idle": "2022-07-27T14:14:26.304676Z",
     "shell.execute_reply": "2022-07-27T14:14:26.303815Z"
    },
    "papermill": {
     "duration": 0.305269,
     "end_time": "2022-07-27T14:14:26.307133",
     "exception": false,
     "start_time": "2022-07-27T14:14:26.001864",
     "status": "completed"
    },
    "tags": []
   },
   "outputs": [
    {
     "data": {
      "image/png": "[encoded data removed]",
      "text/plain": [
       "<Figure size 1152x720 with 1 Axes>"
      ]
     },
     "metadata": {},
     "output_type": "display_data"
    }
   ],
   "source": [
    "plt.figure(figsize=(16, 10\n",
    "                   ))\n",
    "sns.barplot(x=pca.explained_variance_ratio_, y = [\"P\" + str(i + 1) for i in range(n_components)], orient='h', palette='husl')\n",
    "plt.xlim(0., 1.)\n",
    "plt.xlabel(\"Proportion of Variance in Original Data\")\n",
    "plt.title(\"Principal Component Variance\")\n",
    "plt.show()"
   ]
  },
  {
   "cell_type": "code",
   "execution_count": 29,
   "id": "8b7f607b",
   "metadata": {},
   "outputs": [
    {
     "name": "stdout",
     "output_type": "stream",
     "text": [
      "Model Accuracy (Original Data): 92.98246%\n"
     ]
    }
   ],
   "source": [
    "dtc = DecisionTreeClassifier()\n",
    "dtc.fit(X_train, y_train)\n",
    "print(\"Model Accuracy (Original Data): {:.5f}%\".format(dtc.score(X_test, y_test) * 100))\n"
   ]
  },
  {
   "cell_type": "code",
   "execution_count": 30,
   "id": "e7d4795c",
   "metadata": {},
   "outputs": [
    {
     "name": "stdout",
     "output_type": "stream",
     "text": [
      "Model Accuracy (PCA Data): 92.98246%\n"
     ]
    }
   ],
   "source": [
    "dtc = DecisionTreeClassifier()\n",
    "dtc.fit(pc_train, y_train)\n",
    "print(\"Model Accuracy (PCA Data): {:.5f}%\".format(dtc.score(pc_test, y_test) * 100))\n"
   ]
  },
  {
   "cell_type": "markdown",
   "id": "1bfdcc0a",
   "metadata": {
    "papermill": {
     "duration": 0.013121,
     "end_time": "2022-07-27T14:14:26.485570",
     "exception": false,
     "start_time": "2022-07-27T14:14:26.472449",
     "status": "completed"
    },
    "tags": []
   },
   "source": [
    "# If we drop highly correlated features instead of using PCA"
   ]
  },
  {
   "cell_type": "code",
   "execution_count": 32,
   "id": "4fd141db",
   "metadata": {},
   "outputs": [],
   "source": [
    "df = pd.read_csv('cancer.csv')\n",
    "df.drop(['id', 'Unnamed: 32'], axis = 1, inplace = True)\n",
    "df['diagnosis'] = df['diagnosis'].apply(lambda val: 1 if val == 'M' else 0)"
   ]
  },
  {
   "cell_type": "code",
   "execution_count": 33,
   "id": "58b095fb",
   "metadata": {},
   "outputs": [],
   "source": [
    "corr_matrix = df.corr().abs() \n",
    "mask = np.triu(np.ones_like(corr_matrix, dtype = bool))\n",
    "tri_df = corr_matrix.mask(mask)\n",
    "to_drop = [x for x in tri_df.columns if any(tri_df[x] > 0.92)]\n",
    "df = df.drop(to_drop, axis = 1)\n",
    "\n",
    "X = df.drop('diagnosis', axis = 1)\n",
    "y = df['diagnosis']"
   ]
  },
  {
   "cell_type": "code",
   "execution_count": 34,
   "id": "bb99fe2e",
   "metadata": {},
   "outputs": [],
   "source": [
    "X_train, X_test, y_train, y_test = train_test_split(X, y, test_size = 0.3, random_state = 0)\n",
    "\n",
    "scaler = StandardScaler()\n",
    "X_train = scaler.fit_transform(X_train)\n",
    "X_test = scaler.transform(X_test)"
   ]
  },
  {
   "cell_type": "code",
   "execution_count": 35,
   "id": "2768ce4b",
   "metadata": {},
   "outputs": [
    {
     "name": "stdout",
     "output_type": "stream",
     "text": [
      "Fitting 5 folds for each of 8640 candidates, totalling 43200 fits\n"
     ]
    },
    {
     "data": {
      "text/plain": [
       "{'criterion': 'gini',\n",
       " 'max_depth': 9,\n",
       " 'min_samples_leaf': 4,\n",
       " 'min_samples_split': 5,\n",
       " 'splitter': 'random'}"
      ]
     },
     "execution_count": 35,
     "metadata": {},
     "output_type": "execute_result"
    }
   ],
   "source": [
    "dtc = DecisionTreeClassifier()\n",
    "\n",
    "parameters = {\n",
    "    'criterion' : ['gini', 'entropy'],\n",
    "    'max_depth' : range(2, 32, 1),\n",
    "    'min_samples_leaf' : range(1, 10, 1),\n",
    "    'min_samples_split' : range(2, 10, 1),\n",
    "    'splitter' : ['best', 'random']\n",
    "}\n",
    "\n",
    "grid_search_dt = GridSearchCV(dtc, parameters, cv = 5, n_jobs = -1, verbose = 1)\n",
    "grid_search_dt.fit(X_train, y_train)\n",
    "grid_search_dt.best_params_"
   ]
  },
  {
   "cell_type": "code",
   "execution_count": 36,
   "id": "2733562f",
   "metadata": {},
   "outputs": [
    {
     "data": {
      "text/plain": [
       "0.9623417721518986"
      ]
     },
     "execution_count": 36,
     "metadata": {},
     "output_type": "execute_result"
    }
   ],
   "source": [
    "grid_search_dt.best_score_"
   ]
  },
  {
   "cell_type": "code",
   "execution_count": null,
   "id": "e07b3cfd",
   "metadata": {},
   "outputs": [],
   "source": []
  },
  {
   "cell_type": "code",
   "execution_count": null,
   "id": "89da7105",
   "metadata": {},
   "outputs": [],
   "source": []
  }
 ],
 "metadata": {
  "kernelspec": {
   "display_name": "Python 3 (ipykernel)",
   "language": "python",
   "name": "python3"
  },
  "language_info": {
   "codemirror_mode": {
    "name": "ipython",
    "version": 3
   },
   "file_extension": ".py",
   "mimetype": "text/x-python",
   "name": "python",
   "nbconvert_exporter": "python",
   "pygments_lexer": "ipython3",
   "version": "3.8.8"
  },
  "papermill": {
   "default_parameters": {},
   "duration": 15.741247,
   "end_time": "2022-07-27T14:14:27.318168",
   "environment_variables": {},
   "exception": null,
   "input_path": "__notebook__.ipynb",
   "output_path": "__notebook__.ipynb",
   "parameters": {},
   "start_time": "2022-07-27T14:14:11.576921",
   "version": "2.3.4"
  }
 },
 "nbformat": 4,
 "nbformat_minor": 5
}
