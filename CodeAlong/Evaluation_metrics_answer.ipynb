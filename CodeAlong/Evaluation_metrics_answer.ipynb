{
  "cells": [
    {
      "cell_type": "markdown",
      "metadata": {
        "id": "pFM1hbs-DeTj"
      },
      "source": [
        "# Evaluation metrics\n",
        "\n",
        "Authors: Neha Sharma & Eva Yap, adapted by Karly Kussainova\n",
        "\n",
        "In this notebook, you will evaluate your models to see how well they perform. After you finish this notebook, you will apply what you have learned here to your group project."
      ]
    },
    {
      "cell_type": "markdown",
      "metadata": {
        "id": "BrZNKTt1dgpf"
      },
      "source": [
        "## What is the question we are trying to answer?\n",
        "\n",
        "How good is the model we created?\n"
      ]
    },
    {
      "cell_type": "markdown",
      "metadata": {
        "id": "8-EKZcrkeLAR"
      },
      "source": [
        "### Accuracy\n",
        "* One way to determine how well our model is performing is to look at its accuracy.\n",
        "* Let's say we are given 100 images that we want to label as containing a car or not. If our classifies 90 of these images correctly, then we say that our model has an accuracy of 90%.\n",
        "* There are other metrics used to evaluate how well our model is performing such as recall, precision, and F1. We will learn about them in this notebook!"
      ]
    },
    {
      "cell_type": "markdown",
      "metadata": {
        "id": "rYR06-x-dvpN"
      },
      "source": [
        "## Recall data description\n",
        "\n",
        "More information can be found [here](https://www.kaggle.com/competitions/titanic/data).\n",
        "\n",
        "| Feature     | Description | Feature type  | Notes |\n",
        "| ----------- | ----------- |----------- | ----------- |\n",
        "| Survived    | Survival outcome | Categorical | 0 = No, 1 = Yes | \n",
        "| Pclass      | Ticket class | Categorical | 1 = 1st, 2 = 2nd, 3 = 3rd |\n",
        "| Name        | Passenger name | Alphabetic | |\n",
        "| Sex         | Sex | Categorical | |\n",
        "| Age         | Age in years | Continuous | |\n",
        "| SibSp       | # of siblings / spouses aboard the Titanic | Discrete | |\n",
        "| Parch       | # of parents / children aboard the Titanic | Discrete | |\n",
        "| Ticket      | Ticket number | Alphanumeric | |\n",
        "| Fare        | Passenger fare | Continuous | |\n",
        "| Cabin       | Cabin number | Alphanumeric | |\n",
        "| Embarked    | Port of Embarkation | Categorical | C = Cherbourg, Q = Queenstown, S = Southampton |"
      ]
    },
    {
      "cell_type": "markdown",
      "metadata": {
        "id": "FN2zTY65DeTo"
      },
      "source": [
        "Let's get started!"
      ]
    },
    {
      "cell_type": "code",
      "execution_count": null,
      "metadata": {
        "id": "rpaBMFF2DeTo"
      },
      "outputs": [],
      "source": [
        "# import pandas to create a data frame\n",
        "import pandas as pd\n",
        "import numpy as np\n",
        "\n",
        "# import the libraries we'll use to create graphs\n",
        "from matplotlib import pyplot as plt\n",
        "\n",
        "# this command makes sure the graphs show in this window, not a new one\n",
        "%matplotlib inline \n",
        "\n",
        "# import train and test CSV files as dataframes\n",
        "train = pd.read_csv(\"titanic_train.csv\")\n",
        "test = pd.read_csv(\"titanic_test.csv\")"
      ]
    },
    {
      "cell_type": "markdown",
      "metadata": {
        "id": "MbCVhHV6K0te"
      },
      "source": [
        "## Data cleaning (done previously)\n",
        "\n",
        "* In the previous exercises, we took a closer look at the Titanic dataset. \n",
        "* Some of the features are not useful for building a model and we will drop these features using the code below.\n",
        "* Certain features contain missing values and we filled in the gaps using information we already have in the dataset (see Data Wrangling and Viz notebook). \n",
        "* We will also fill the missing values using the code below."
      ]
    },
    {
      "cell_type": "code",
      "execution_count": null,
      "metadata": {
        "colab": {
          "base_uri": "https://localhost:8080/"
        },
        "id": "QJw0hK01I4Wj",
        "outputId": "159ac6ce-35c5-44b0-8d11-306833c62ffd"
      },
      "outputs": [
        {
          "output_type": "stream",
          "name": "stderr",
          "text": [
            "/usr/local/lib/python3.7/dist-packages/ipykernel_launcher.py:28: SettingWithCopyWarning: \n",
            "A value is trying to be set on a copy of a slice from a DataFrame\n",
            "\n",
            "See the caveats in the documentation: https://pandas.pydata.org/pandas-docs/stable/user_guide/indexing.html#returning-a-view-versus-a-copy\n"
          ]
        }
      ],
      "source": [
        "# clean data to account for missing values and unnecessary information \n",
        "# see Data Wrangling and Viz notebook for more details\n",
        "\n",
        "# drop Cabin\n",
        "train = train.drop(['Cabin'], axis = 1)\n",
        "test = test.drop(['Cabin'], axis = 1)\n",
        "\n",
        "# drop Ticket\n",
        "train = train.drop(['Ticket'], axis = 1)\n",
        "test = test.drop(['Ticket'], axis = 1)\n",
        "\n",
        "# map each Sex value to a numerical value\n",
        "sex_mapping = {\"male\": 0, \"female\": 1}\n",
        "train['Sex'] = train['Sex'].map(sex_mapping)\n",
        "test['Sex'] = test['Sex'].map(sex_mapping)\n",
        "\n",
        "# replacing the missing values in the Embarked feature with S\n",
        "train = train.fillna({\"Embarked\": \"S\"})\n",
        "# map each Embarked value to a numerical value\n",
        "embarked_mapping = {\"S\": 1, \"C\": 2, \"Q\": 3}\n",
        "train['Embarked'] = train['Embarked'].map(embarked_mapping)\n",
        "test['Embarked'] = test['Embarked'].map(embarked_mapping)\n",
        "\n",
        "# fill in missing Fare value in test set based on mean fare for that Pclass \n",
        "for x in range(len(test[\"Fare\"])):\n",
        "    if pd.isnull(test[\"Fare\"][x]):\n",
        "        pclass = test[\"Pclass\"][x] #Pclass = 3\n",
        "        test[\"Fare\"][x] = round(train[train[\"Pclass\"] == pclass][\"Fare\"].mean(), 4)\n",
        "        \n",
        "# map Fare values into groups of numerical values\n",
        "train['FareBand'] = pd.qcut(train['Fare'], 4, labels = [1, 2, 3, 4])\n",
        "test['FareBand'] = pd.qcut(test['Fare'], 4, labels = [1, 2, 3, 4])\n",
        "# drop Fare values\n",
        "train = train.drop(['Fare'], axis = 1)\n",
        "test = test.drop(['Fare'], axis = 1)\n",
        "\n",
        "# Age feature\n",
        "# sort the ages into logical categories\n",
        "train[\"Age\"] = train[\"Age\"].fillna(-0.5)\n",
        "test[\"Age\"] = test[\"Age\"].fillna(-0.5)\n",
        "bins = [-1, 0, 5, 12, 18, 24, 35, 60, np.inf]\n",
        "labels = ['Unknown', 'Baby', 'Child', 'Teenager', 'Student', 'Young Adult', 'Adult', 'Senior']\n",
        "train['AgeGroup'] = pd.cut(train[\"Age\"], bins, labels = labels)\n",
        "test['AgeGroup'] = pd.cut(test[\"Age\"], bins, labels = labels)\n",
        "\n",
        "combine = [train, test]\n",
        "# extract a title for each Name in the train and test datasets\n",
        "for dataset in combine:\n",
        "    dataset['Title'] = dataset.Name.str.extract(' ([A-Za-z]+)\\.', expand=False)\n",
        "\n",
        "# replace various titles with more common names\n",
        "for dataset in combine:\n",
        "    dataset['Title'] = dataset['Title'].replace(['Lady', 'Capt', 'Col',\n",
        "    'Don', 'Dr', 'Major', 'Rev', 'Jonkheer', 'Dona'], 'Rare')\n",
        "    \n",
        "    dataset['Title'] = dataset['Title'].replace(['Countess', 'Lady', 'Sir'], 'Royal')\n",
        "    dataset['Title'] = dataset['Title'].replace('Mlle', 'Miss')\n",
        "    dataset['Title'] = dataset['Title'].replace('Ms', 'Miss')\n",
        "    dataset['Title'] = dataset['Title'].replace('Mme', 'Mrs')\n",
        "\n",
        "# map each of the title groups to a numerical value\n",
        "title_mapping = {\"Mr\": 1, \"Miss\": 2, \"Mrs\": 3, \"Master\": 4, \"Royal\": 5, \"Rare\": 6}\n",
        "for dataset in combine:\n",
        "    dataset['Title'] = dataset['Title'].map(title_mapping)\n",
        "    dataset['Title'] = dataset['Title'].fillna(0)\n",
        "\n",
        "# fill missing age with mode age group for each title\n",
        "mr_age = train[train[\"Title\"] == 1][\"AgeGroup\"].mode() #Young Adult\n",
        "miss_age = train[train[\"Title\"] == 2][\"AgeGroup\"].mode() #Student\n",
        "mrs_age = train[train[\"Title\"] == 3][\"AgeGroup\"].mode() #Adult\n",
        "master_age = train[train[\"Title\"] == 4][\"AgeGroup\"].mode() #Baby\n",
        "royal_age = train[train[\"Title\"] == 5][\"AgeGroup\"].mode() #Adult\n",
        "rare_age = train[train[\"Title\"] == 6][\"AgeGroup\"].mode() #Adult\n",
        "\n",
        "age_title_mapping = {1: \"Young Adult\", 2: \"Student\", 3: \"Adult\", 4: \"Baby\", 5: \"Adult\", 6: \"Adult\"}\n",
        "\n",
        "for x in range(len(train[\"AgeGroup\"])):\n",
        "    if train[\"AgeGroup\"][x] == \"Unknown\":\n",
        "        train[\"AgeGroup\"][x] = age_title_mapping[train[\"Title\"][x]]\n",
        "        \n",
        "for x in range(len(test[\"AgeGroup\"])):\n",
        "    if test[\"AgeGroup\"][x] == \"Unknown\":\n",
        "        test[\"AgeGroup\"][x] = age_title_mapping[test[\"Title\"][x]]\n",
        "\n",
        "# map each Age value to a numerical value\n",
        "age_mapping = {'Baby': 1, 'Child': 2, 'Teenager': 3, 'Student': 4, 'Young Adult': 5, 'Adult': 6, 'Senior': 7}\n",
        "train['AgeGroup'] = train['AgeGroup'].map(age_mapping)\n",
        "test['AgeGroup'] = test['AgeGroup'].map(age_mapping)\n",
        "\n",
        "# dropping the Age feature for now, might change\n",
        "train = train.drop(['Age'], axis = 1)\n",
        "test = test.drop(['Age'], axis = 1)\n",
        "\n",
        "# drop Name\n",
        "train = train.drop(['Name'], axis = 1)\n",
        "test = test.drop(['Name'], axis = 1)"
      ]
    },
    {
      "cell_type": "markdown",
      "metadata": {
        "id": "1kCDJy-yK50u"
      },
      "source": [
        "## Split the training set\n",
        "We will use part of our training data (22% in this case) to evaluate our models."
      ]
    },
    {
      "cell_type": "code",
      "execution_count": null,
      "metadata": {
        "id": "sv0qrkPrJJds"
      },
      "outputs": [],
      "source": [
        "from sklearn.model_selection import train_test_split\n",
        "\n",
        "predictors = train.drop(['Survived', 'PassengerId'], axis=1)\n",
        "target = train[\"Survived\"]\n",
        "x_train, x_test, y_train, y_test = train_test_split(predictors, target, test_size = 0.22, random_state = 0)"
      ]
    },
    {
      "cell_type": "markdown",
      "metadata": {
        "id": "CImNs6w_K9lY"
      },
      "source": [
        "## Choose a classification model\n",
        "\n",
        "We will evaluate the decision trees model we build in a previous notebook.\n",
        "\n"
      ]
    },
    {
      "cell_type": "code",
      "execution_count": null,
      "metadata": {
        "colab": {
          "base_uri": "https://localhost:8080/"
        },
        "id": "rXtayTYQJOD3",
        "outputId": "65b30f79-ffc0-408f-eb01-94fd140382cc"
      },
      "outputs": [
        {
          "output_type": "stream",
          "name": "stdout",
          "text": [
            "Accuracy: 0.8121827411167513\n",
            "Accuracy after normalizing it: 81.22\n"
          ]
        }
      ],
      "source": [
        "# decision trees\n",
        "from sklearn.tree import DecisionTreeClassifier\n",
        "from sklearn.metrics import accuracy_score\n",
        "\n",
        "decisiontree = DecisionTreeClassifier()\n",
        "decisiontree.fit(x_train, y_train)\n",
        "y_pred = decisiontree.predict(x_test)\n",
        "accuracy = accuracy_score(y_pred, y_test)\n",
        "print('Accuracy: ' + str(accuracy ))\n",
        "\n",
        "\n",
        "acc_decisiontree = round(accuracy_score(y_pred, y_test) * 100, 2)\n",
        "print('Accuracy after normalizing it: ' + str(acc_decisiontree ))\n"
      ]
    },
    {
      "cell_type": "markdown",
      "metadata": {
        "id": "sE6PtD_XDeTt"
      },
      "source": [
        "## Confusion matrix\n",
        "* First, we will look at the confusion matrix.\n",
        "* This array of numbers shows us the accurate predictions (i.e. true positive and true negative) and incorrect predictions (i.e. false positive and false negative). "
      ]
    },
    {
      "cell_type": "markdown",
      "metadata": {
        "id": "1_T8EsJ3Icdd"
      },
      "source": [
        "![Figures.png](data:image/png;base64,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)"
      ]
    },
    {
      "cell_type": "code",
      "execution_count": null,
      "metadata": {
        "colab": {
          "base_uri": "https://localhost:8080/"
        },
        "id": "nAxionprDeTv",
        "outputId": "f40265b3-8de2-4398-c39c-d5fac3d4f226"
      },
      "outputs": [
        {
          "output_type": "execute_result",
          "data": {
            "text/plain": [
              "array([[109,  15],\n",
              "       [ 22,  51]])"
            ]
          },
          "metadata": {},
          "execution_count": 5
        }
      ],
      "source": [
        "# print confusion matrix for the model we want to evaluate\n",
        "from sklearn.metrics import confusion_matrix\n",
        "confusion_matrix(y_test, y_pred)"
      ]
    },
    {
      "cell_type": "markdown",
      "metadata": {
        "id": "bT8iYzRYDeTv"
      },
      "source": [
        "This isn't super useful, since there are no labels. Let's try making this into a diagram that is more useable."
      ]
    },
    {
      "cell_type": "code",
      "execution_count": null,
      "metadata": {
        "colab": {
          "base_uri": "https://localhost:8080/",
          "height": 351
        },
        "id": "9AKlIruRDeTw",
        "outputId": "3b7ec663-0820-490d-fd20-60e6e7ed1ba5"
      },
      "outputs": [
        {
          "output_type": "stream",
          "name": "stderr",
          "text": [
            "/usr/local/lib/python3.7/dist-packages/sklearn/utils/deprecation.py:87: FutureWarning: Function plot_confusion_matrix is deprecated; Function `plot_confusion_matrix` is deprecated in 1.0 and will be removed in 1.2. Use one of the class methods: ConfusionMatrixDisplay.from_predictions or ConfusionMatrixDisplay.from_estimator.\n",
            "  warnings.warn(msg, category=FutureWarning)\n"
          ]
        },
        {
          "output_type": "execute_result",
          "data": {
            "text/plain": [
              "<sklearn.metrics._plot.confusion_matrix.ConfusionMatrixDisplay at 0x7febf1c4fbd0>"
            ]
          },
          "metadata": {},
          "execution_count": 6
        },
        {
          "output_type": "display_data",
          "data": {
            "text/plain": [
              "<Figure size 432x288 with 2 Axes>"
            ],
            "image/png": "[encoded data removed]"
          },
          "metadata": {
            "needs_background": "light"
          }
        }
      ],
      "source": [
        "from sklearn.metrics import plot_confusion_matrix\n",
        "plot_confusion_matrix(decisiontree,x_test, y_test)"
      ]
    },
    {
      "cell_type": "markdown",
      "metadata": {
        "id": "sejD5KezDeTw"
      },
      "source": [
        "Much better! Now we can use the labels to see where the true label (from our dataset) and the predicted label (from our decision tree model) are the same and where they are different."
      ]
    },
    {
      "cell_type": "markdown",
      "metadata": {
        "id": "xgDQxqg2DeTx"
      },
      "source": [
        "## Accuracy, Recall, Precision, and F1 ##"
      ]
    },
    {
      "cell_type": "markdown",
      "metadata": {
        "id": "Abm2t-BMDeTx"
      },
      "source": [
        "### Accuracy\n",
        "* How often is the classifier correct? \n",
        "* Calculated by (total number of observations correctly predicted) divided by (total number of observations)."
      ]
    },
    {
      "cell_type": "markdown",
      "metadata": {
        "id": "NDkc1Yt3MT2-"
      },
      "source": [
        "### Recall\n",
        "* Also called true positive rate or sensitivity \n",
        "* For each row in the confusion matrix (true labels 0 and 1) a recall value is calculated.\n",
        "* This value is (number  of observations correctly predicted in that row) divided by true total number in that row.\n",
        "* The **true total** is what you get by adding up the values across a row. \n",
        "* For example, for label 1, recall is (52)/(21+52)"
      ]
    },
    {
      "cell_type": "markdown",
      "metadata": {
        "id": "DaBetc-QNAu5"
      },
      "source": [
        "### Precision\n",
        "* Precision is calculated by column in the confusion matrix above. \n",
        "* For each column (predicted labels 0 and 1), a precision value is calculated. \n",
        "* This is calculated by (number of observations correctly predicted in that column) divided by the total predicted in that column. \n",
        "* For example, for the column of predicted values of 1, precision is (52)/(14+52)"
      ]
    },
    {
      "cell_type": "markdown",
      "metadata": {
        "id": "NAqmV9RINL0V"
      },
      "source": [
        "\n",
        "### F1\n",
        "This score combines the recall and precision values (it is a weighted average)."
      ]
    },
    {
      "cell_type": "markdown",
      "metadata": {
        "id": "P-PY-BtyMGj-"
      },
      "source": [
        "For another description of each of these terms see [this article](https://www.dataschool.io/simple-guide-to-confusion-matrix-terminology/)"
      ]
    },
    {
      "cell_type": "code",
      "execution_count": null,
      "metadata": {
        "colab": {
          "base_uri": "https://localhost:8080/"
        },
        "id": "p42qfVG5DeTy",
        "outputId": "f5bbbbaf-2b60-42f3-c63f-3f0bc038253c"
      },
      "outputs": [
        {
          "output_type": "stream",
          "name": "stdout",
          "text": [
            "Accuracy:  0.8121827411167513\n",
            "Recall:  0.6986301369863014\n",
            "Precision:  0.7727272727272727\n",
            "F1 score:  0.7338129496402879\n"
          ]
        }
      ],
      "source": [
        "# Accuracy\n",
        "from sklearn.metrics import accuracy_score\n",
        "acc = accuracy_score(y_test, y_pred)\n",
        "print('Accuracy: ', acc)\n",
        "\n",
        "# Recall\n",
        "from sklearn.metrics import recall_score\n",
        "recall = recall_score(y_test, y_pred)\n",
        "print('Recall: ', recall)\n",
        "\n",
        "# Precision\n",
        "from sklearn.metrics import precision_score\n",
        "precision = precision_score(y_test, y_pred)\n",
        "print('Precision: ', precision)\n",
        "\n",
        "from sklearn.metrics import f1_score\n",
        "f1_score = f1_score(y_test, y_pred)\n",
        "print('F1 score: ', f1_score)"
      ]
    },
    {
      "cell_type": "markdown",
      "metadata": {
        "id": "MX9NlpyhDeTy"
      },
      "source": [
        "## Use the `classification_report` function\n",
        "\n",
        "* To see all of this easily in one place, you can use the `classification_report` function\n",
        "* At the top, precision, recall, and the F1 score are broken out by the level that we're predicting (0 and 1). At the bottom of the report, we have accuracy, the macro-averaged precision, recall, and F1 score, and the weighted average precision, recall, and F1 score.\n",
        "* **Macro** weighting means there aren't weights when you combine the scores together, so when we combine all of the precision scores, for example, we are adding the scores for 0 and 1.\n",
        "* The **weighted average** combines all of the scores, but gives them weights for how many observations were in that class.\n",
        "* The **support** is the number of actual occurrences of the class in the specified dataset"
      ]
    },
    {
      "cell_type": "code",
      "execution_count": null,
      "metadata": {
        "colab": {
          "base_uri": "https://localhost:8080/"
        },
        "id": "WaxeYqe7DeTy",
        "outputId": "3395757b-ca1d-4412-9bae-c787a44b9068"
      },
      "outputs": [
        {
          "output_type": "stream",
          "name": "stdout",
          "text": [
            "              precision    recall  f1-score   support\n",
            "\n",
            "           0       0.83      0.88      0.85       124\n",
            "           1       0.77      0.70      0.73        73\n",
            "\n",
            "    accuracy                           0.81       197\n",
            "   macro avg       0.80      0.79      0.79       197\n",
            "weighted avg       0.81      0.81      0.81       197\n",
            "\n"
          ]
        }
      ],
      "source": [
        "from sklearn.metrics import classification_report\n",
        "print(classification_report(y_test, y_pred, digits = 2))"
      ]
    },
    {
      "cell_type": "markdown",
      "metadata": {
        "id": "-yoI1x_LDeTz"
      },
      "source": [
        "## Practice question 1\n",
        "Apply another classification technique. Create a confusion matrix and run a classification report. "
      ]
    },
    {
      "cell_type": "code",
      "execution_count": null,
      "metadata": {
        "colab": {
          "base_uri": "https://localhost:8080/",
          "height": 513
        },
        "id": "_VFubxU_DeTz",
        "outputId": "b320ef37-6b80-4362-f865-1c1494c65f11"
      },
      "outputs": [
        {
          "name": "stdout",
          "output_type": "stream",
          "text": [
            "84.26\n",
            "              precision    recall  f1-score   support\n",
            "\n",
            "           0      0.884     0.863     0.873       124\n",
            "           1      0.776     0.808     0.792        73\n",
            "\n",
            "    accuracy                          0.843       197\n",
            "   macro avg      0.830     0.836     0.833       197\n",
            "weighted avg      0.844     0.843     0.843       197\n",
            "\n"
          ]
        },
        {
          "name": "stderr",
          "output_type": "stream",
          "text": [
            "/Users/karlykussainova/opt/anaconda3/lib/python3.8/site-packages/sklearn/utils/deprecation.py:87: FutureWarning: Function plot_confusion_matrix is deprecated; Function `plot_confusion_matrix` is deprecated in 1.0 and will be removed in 1.2. Use one of the class methods: ConfusionMatrixDisplay.from_predictions or ConfusionMatrixDisplay.from_estimator.\n",
            "  warnings.warn(msg, category=FutureWarning)\n"
          ]
        },
        {
          "data": {
            "image/png": "[encoded data removed]",
            "text/plain": [
              "<Figure size 432x288 with 2 Axes>"
            ]
          },
          "metadata": {
            "needs_background": "light"
          },
          "output_type": "display_data"
        }
      ],
      "source": [
        "# write code for question 1 below\n",
        "\n",
        "# random forest\n",
        "from sklearn.ensemble import RandomForestClassifier\n",
        "\n",
        "randomforest = RandomForestClassifier()\n",
        "randomforest.fit(x_train, y_train)\n",
        "y_pred = randomforest.predict(x_test)\n",
        "acc_randomforest = round(accuracy_score(y_pred, y_test) * 100, 2)\n",
        "print(acc_randomforest)\n",
        "\n",
        "# confusion matrix\n",
        "plot_confusion_matrix(randomforest,x_test, y_test)\n",
        "\n",
        "# print the classification report\n",
        "print(classification_report(y_test,y_pred, digits = 3))"
      ]
    },
    {
      "cell_type": "markdown",
      "metadata": {
        "id": "TFEMdEDdDeT0"
      },
      "source": [
        "## Practice question 2\n",
        "How do you know this model is better (or not) than the first decision tree in this notebook?"
      ]
    },
    {
      "cell_type": "markdown",
      "metadata": {
        "id": "QK_Bo_ggDeT0"
      },
      "source": [
        "Write your question 2 answer here\n",
        "\n",
        "In the example, the weighted average score and macro average scores are slightly higher, indicating better model performance."
      ]
    },
    {
      "cell_type": "code",
      "execution_count": null,
      "metadata": {
        "id": "MLPmYGqEeE59"
      },
      "outputs": [],
      "source": [
        "Answer key\n",
        "\n",
        "[1] \n",
        "0.22\n",
        "\n",
        "\n",
        "[2]\n",
        "DecisionTreeClassifier()\n",
        "\n",
        "\n",
        "[3], [4]\n",
        "(x_train, y_train)\n",
        "\n",
        "\n",
        "[5]\n",
        "y_test\n",
        "\n",
        "\n",
        "[6]\n",
        "decisiontree\n",
        "\n",
        "\n",
        "# Recall\n",
        "from sklearn.metrics import recall_score\n",
        "recall = recall_score(y_test, y_pred)\n",
        "print('Recall: ', recall)\n",
        "\n",
        "# Precision\n",
        "from sklearn.metrics import precision_score\n",
        "precision = precision_score(y_test, y_pred)\n",
        "print('Precision: ', precision)\n",
        "\n",
        "from sklearn.metrics import f1_score\n",
        "f1_score = f1_score(y_test, y_pred)\n",
        "print('F1 score: ', f1_score)"
      ]
    }
  ],
  "metadata": {
    "colab": {
      "collapsed_sections": [],
      "name": "Evaluation_metrics_answer.ipynb",
      "provenance": []
    },
    "kernelspec": {
      "display_name": "Python 3 (ipykernel)",
      "language": "python",
      "name": "python3"
    },
    "language_info": {
      "codemirror_mode": {
        "name": "ipython",
        "version": 3
      },
      "file_extension": ".py",
      "mimetype": "text/x-python",
      "name": "python",
      "nbconvert_exporter": "python",
      "pygments_lexer": "ipython3",
      "version": "3.8.8"
    }
  },
  "nbformat": 4,
  "nbformat_minor": 0
}